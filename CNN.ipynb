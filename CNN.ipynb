{
 "cells": [
  {
   "cell_type": "code",
   "execution_count": 1,
   "id": "aa213013",
   "metadata": {},
   "outputs": [],
   "source": [
    "import tensorflow as tf"
   ]
  },
  {
   "cell_type": "code",
   "execution_count": 2,
   "id": "217b7fa4",
   "metadata": {},
   "outputs": [],
   "source": [
    "import keras"
   ]
  },
  {
   "cell_type": "markdown",
   "id": "59a6e1bf",
   "metadata": {},
   "source": [
    "# Image Data Processing"
   ]
  },
  {
   "cell_type": "code",
   "execution_count": 3,
   "id": "225a2865",
   "metadata": {},
   "outputs": [],
   "source": [
    "from keras.preprocessing.image import ImageDataGenerator"
   ]
  },
  {
   "cell_type": "markdown",
   "id": "d3053268",
   "metadata": {},
   "source": [
    "### Preprocessing the image data(training)"
   ]
  },
  {
   "cell_type": "code",
   "execution_count": 4,
   "id": "03cbdca6",
   "metadata": {},
   "outputs": [],
   "source": [
    "gen = ImageDataGenerator(rescale=1/255, shear_range=0.2,zoom_range=0.2)"
   ]
  },
  {
   "cell_type": "code",
   "execution_count": 5,
   "id": "47f467c9",
   "metadata": {},
   "outputs": [
    {
     "name": "stdout",
     "output_type": "stream",
     "text": [
      "Found 8048 images belonging to 2 classes.\n"
     ]
    }
   ],
   "source": [
    "training_set = gen.flow_from_directory('training_set',target_size=(64,64),class_mode='binary')"
   ]
  },
  {
   "cell_type": "code",
   "execution_count": 6,
   "id": "a78db800",
   "metadata": {},
   "outputs": [
    {
     "data": {
      "text/plain": [
       "{'cats': 0, 'dogs': 1}"
      ]
     },
     "execution_count": 6,
     "metadata": {},
     "output_type": "execute_result"
    }
   ],
   "source": [
    "training_set.class_indices"
   ]
  },
  {
   "cell_type": "markdown",
   "id": "a528997f",
   "metadata": {},
   "source": [
    "### Preprocessing test dataset"
   ]
  },
  {
   "cell_type": "code",
   "execution_count": 7,
   "id": "7c89c4cf",
   "metadata": {},
   "outputs": [],
   "source": [
    "test_datagen = ImageDataGenerator(rescale=1/255)"
   ]
  },
  {
   "cell_type": "code",
   "execution_count": 8,
   "id": "fec92d5d",
   "metadata": {},
   "outputs": [
    {
     "name": "stdout",
     "output_type": "stream",
     "text": [
      "Found 2000 images belonging to 2 classes.\n"
     ]
    }
   ],
   "source": [
    "test_set = test_datagen.flow_from_directory('test_set',target_size=(64,64),class_mode='binary')"
   ]
  },
  {
   "cell_type": "markdown",
   "id": "949d0a06",
   "metadata": {},
   "source": [
    "## Modelling (building the convolution neural network)"
   ]
  },
  {
   "cell_type": "code",
   "execution_count": 9,
   "id": "f1185fc1",
   "metadata": {},
   "outputs": [],
   "source": [
    "from keras.models import Sequential\n",
    "classifier = Sequential()"
   ]
  },
  {
   "cell_type": "markdown",
   "id": "164785c0",
   "metadata": {},
   "source": [
    "#### step 1 : Convolution"
   ]
  },
  {
   "cell_type": "code",
   "execution_count": 10,
   "id": "f7ad065b",
   "metadata": {},
   "outputs": [],
   "source": [
    "from keras.layers import Conv2D\n",
    "classifier.add(Conv2D(filters=32,kernel_size=3,activation='relu',input_shape=[64,64,3]))"
   ]
  },
  {
   "cell_type": "markdown",
   "id": "8e0116c6",
   "metadata": {},
   "source": [
    "#### step 2 : Pooling"
   ]
  },
  {
   "cell_type": "code",
   "execution_count": 11,
   "id": "0e9dfe50",
   "metadata": {},
   "outputs": [],
   "source": [
    "from keras.layers import MaxPooling2D\n",
    "classifier.add(MaxPooling2D(pool_size=2,strides=2))"
   ]
  },
  {
   "cell_type": "markdown",
   "id": "3097bdb9",
   "metadata": {},
   "source": [
    "#### Adding second layer of convolution"
   ]
  },
  {
   "cell_type": "code",
   "execution_count": 12,
   "id": "562814b1",
   "metadata": {},
   "outputs": [],
   "source": [
    "classifier.add(Conv2D(filters=32,kernel_size=3,activation='relu'))\n",
    "classifier.add(MaxPooling2D(pool_size=2,strides=2))               "
   ]
  },
  {
   "cell_type": "markdown",
   "id": "e8163af7",
   "metadata": {},
   "source": [
    "#### Step 3: Flattening"
   ]
  },
  {
   "cell_type": "code",
   "execution_count": 13,
   "id": "e7167f54",
   "metadata": {},
   "outputs": [],
   "source": [
    "from keras.layers import Flatten\n",
    "classifier.add(Flatten())"
   ]
  },
  {
   "cell_type": "markdown",
   "id": "932b3dc9",
   "metadata": {},
   "source": [
    "## Neural Network Connection"
   ]
  },
  {
   "cell_type": "code",
   "execution_count": 14,
   "id": "86f5d81c",
   "metadata": {},
   "outputs": [],
   "source": [
    "from keras.layers import Dense\n",
    "classifier.add(Dense(units=128,activation='relu'))\n",
    "classifier.add(Dense(units=1,activation='sigmoid'))"
   ]
  },
  {
   "cell_type": "markdown",
   "id": "a9bce0f1",
   "metadata": {},
   "source": [
    "#### Compiling the CNN"
   ]
  },
  {
   "cell_type": "code",
   "execution_count": 15,
   "id": "561291f8",
   "metadata": {},
   "outputs": [],
   "source": [
    "classifier.compile(optimizer='adam',loss='binary_crossentropy',metrics=['accuracy'])"
   ]
  },
  {
   "cell_type": "markdown",
   "id": "5119640b",
   "metadata": {},
   "source": [
    "### Training the CNN model with training data"
   ]
  },
  {
   "cell_type": "code",
   "execution_count": 16,
   "id": "ba885087",
   "metadata": {},
   "outputs": [
    {
     "name": "stdout",
     "output_type": "stream",
     "text": [
      "Epoch 1/25\n",
      "252/252 [==============================] - 394s 2s/step - loss: 0.6692 - accuracy: 0.5891 - val_loss: 0.6732 - val_accuracy: 0.6090\n",
      "Epoch 2/25\n",
      "252/252 [==============================] - 60s 237ms/step - loss: 0.6052 - accuracy: 0.6759 - val_loss: 0.5914 - val_accuracy: 0.6875\n",
      "Epoch 3/25\n",
      "252/252 [==============================] - 59s 235ms/step - loss: 0.5558 - accuracy: 0.7208 - val_loss: 0.5425 - val_accuracy: 0.7300\n",
      "Epoch 4/25\n",
      "252/252 [==============================] - 63s 252ms/step - loss: 0.5246 - accuracy: 0.7392 - val_loss: 0.5397 - val_accuracy: 0.7325\n",
      "Epoch 5/25\n",
      "252/252 [==============================] - 60s 237ms/step - loss: 0.4888 - accuracy: 0.7598 - val_loss: 0.5060 - val_accuracy: 0.7640\n",
      "Epoch 6/25\n",
      "252/252 [==============================] - 60s 237ms/step - loss: 0.4604 - accuracy: 0.7826 - val_loss: 0.4815 - val_accuracy: 0.7755\n",
      "Epoch 7/25\n",
      "252/252 [==============================] - 60s 237ms/step - loss: 0.4399 - accuracy: 0.7950 - val_loss: 0.4932 - val_accuracy: 0.7725\n",
      "Epoch 8/25\n",
      "252/252 [==============================] - 60s 238ms/step - loss: 0.4217 - accuracy: 0.8042 - val_loss: 0.4803 - val_accuracy: 0.7770\n",
      "Epoch 9/25\n",
      "252/252 [==============================] - 60s 237ms/step - loss: 0.3975 - accuracy: 0.8155 - val_loss: 0.4710 - val_accuracy: 0.7835\n",
      "Epoch 10/25\n",
      "252/252 [==============================] - 62s 245ms/step - loss: 0.3716 - accuracy: 0.8350 - val_loss: 0.4720 - val_accuracy: 0.7910\n",
      "Epoch 11/25\n",
      "252/252 [==============================] - 61s 240ms/step - loss: 0.3495 - accuracy: 0.8472 - val_loss: 0.4942 - val_accuracy: 0.7905\n",
      "Epoch 12/25\n",
      "252/252 [==============================] - 61s 242ms/step - loss: 0.3111 - accuracy: 0.8672 - val_loss: 0.5016 - val_accuracy: 0.7770\n",
      "Epoch 13/25\n",
      "252/252 [==============================] - 60s 239ms/step - loss: 0.2924 - accuracy: 0.8705 - val_loss: 0.6113 - val_accuracy: 0.7620\n",
      "Epoch 14/25\n",
      "252/252 [==============================] - 60s 239ms/step - loss: 0.2657 - accuracy: 0.8893 - val_loss: 0.5300 - val_accuracy: 0.7835\n",
      "Epoch 15/25\n",
      "252/252 [==============================] - 61s 243ms/step - loss: 0.2471 - accuracy: 0.8986 - val_loss: 0.5428 - val_accuracy: 0.7860\n",
      "Epoch 16/25\n",
      "252/252 [==============================] - 60s 239ms/step - loss: 0.2199 - accuracy: 0.9115 - val_loss: 0.5452 - val_accuracy: 0.7885\n",
      "Epoch 17/25\n",
      "252/252 [==============================] - 59s 234ms/step - loss: 0.2130 - accuracy: 0.9128 - val_loss: 0.6042 - val_accuracy: 0.7895\n",
      "Epoch 18/25\n",
      "252/252 [==============================] - 60s 240ms/step - loss: 0.1846 - accuracy: 0.9281 - val_loss: 0.6774 - val_accuracy: 0.7720\n",
      "Epoch 19/25\n",
      "252/252 [==============================] - 62s 247ms/step - loss: 0.1724 - accuracy: 0.9324 - val_loss: 0.6276 - val_accuracy: 0.7985\n",
      "Epoch 20/25\n",
      "252/252 [==============================] - 60s 236ms/step - loss: 0.1496 - accuracy: 0.9451 - val_loss: 0.6900 - val_accuracy: 0.7795\n",
      "Epoch 21/25\n",
      "252/252 [==============================] - 62s 245ms/step - loss: 0.1337 - accuracy: 0.9503 - val_loss: 0.7659 - val_accuracy: 0.7785\n",
      "Epoch 22/25\n",
      "252/252 [==============================] - 63s 248ms/step - loss: 0.1273 - accuracy: 0.9500 - val_loss: 0.7999 - val_accuracy: 0.7785\n",
      "Epoch 23/25\n",
      "252/252 [==============================] - 61s 241ms/step - loss: 0.1112 - accuracy: 0.9581 - val_loss: 0.8171 - val_accuracy: 0.7710\n",
      "Epoch 24/25\n",
      "252/252 [==============================] - 60s 237ms/step - loss: 0.1109 - accuracy: 0.9602 - val_loss: 0.8107 - val_accuracy: 0.7825\n",
      "Epoch 25/25\n",
      "252/252 [==============================] - 61s 241ms/step - loss: 0.1059 - accuracy: 0.9626 - val_loss: 0.8093 - val_accuracy: 0.7895\n"
     ]
    },
    {
     "data": {
      "text/plain": [
       "<keras.callbacks.History at 0x28aa8cec070>"
      ]
     },
     "execution_count": 16,
     "metadata": {},
     "output_type": "execute_result"
    }
   ],
   "source": [
    "classifier.fit(x=training_set,validation_data=test_set,epochs=25)"
   ]
  },
  {
   "cell_type": "markdown",
   "id": "a3a753ff",
   "metadata": {},
   "source": [
    "# Evaluation"
   ]
  },
  {
   "cell_type": "code",
   "execution_count": 17,
   "id": "5adae8c2",
   "metadata": {},
   "outputs": [],
   "source": [
    "import numpy as np\n",
    "from PIL import Image"
   ]
  },
  {
   "cell_type": "code",
   "execution_count": 22,
   "id": "cb520669",
   "metadata": {},
   "outputs": [],
   "source": [
    "test_image = Image.open('single_prediction/cat_or_dog_2.jpg')\n",
    "test_image = test_image.resize((64,64))\n",
    "test_image = np.array(test_image)\n",
    "test_image = np.expand_dims(test_image,axis=0)"
   ]
  },
  {
   "cell_type": "code",
   "execution_count": 23,
   "id": "42a88537",
   "metadata": {},
   "outputs": [
    {
     "name": "stdout",
     "output_type": "stream",
     "text": [
      "1/1 [==============================] - 0s 41ms/step\n"
     ]
    }
   ],
   "source": [
    "result = classifier.predict(test_image)"
   ]
  },
  {
   "cell_type": "code",
   "execution_count": 24,
   "id": "67e255bb",
   "metadata": {},
   "outputs": [
    {
     "name": "stdout",
     "output_type": "stream",
     "text": [
      "[[0.]]\n"
     ]
    }
   ],
   "source": [
    "print(result)"
   ]
  },
  {
   "cell_type": "code",
   "execution_count": 25,
   "id": "0b78ec29",
   "metadata": {},
   "outputs": [
    {
     "name": "stdout",
     "output_type": "stream",
     "text": [
      "Cat\n"
     ]
    }
   ],
   "source": [
    "if result[0][0] == 1:\n",
    "    print(\"Dog\")\n",
    "else:\n",
    "    print(\"Cat\")   "
   ]
  },
  {
   "cell_type": "code",
   "execution_count": 26,
   "id": "cb5d9d5f",
   "metadata": {},
   "outputs": [
    {
     "name": "stdout",
     "output_type": "stream",
     "text": [
      "1/1 [==============================] - 0s 71ms/step\n",
      "Dog\n"
     ]
    }
   ],
   "source": [
    "test_image = Image.open('single_prediction/cat_or_dog_1.jpg')\n",
    "test_image = test_image.resize((64,64))\n",
    "test_image = np.array(test_image)\n",
    "test_image = np.expand_dims(test_image,axis=0)\n",
    "\n",
    "result = classifier.predict(test_image)\n",
    "\n",
    "if result[0][0] == 1:\n",
    "    print(\"Dog\")\n",
    "else:\n",
    "    print(\"Cat\")   "
   ]
  },
  {
   "cell_type": "code",
   "execution_count": 30,
   "id": "836a8dd1",
   "metadata": {},
   "outputs": [
    {
     "name": "stdout",
     "output_type": "stream",
     "text": [
      "1/1 [==============================] - 0s 78ms/step\n",
      "Dog\n"
     ]
    }
   ],
   "source": [
    "test_image = Image.open('single_prediction/cat_or_dog_1.jpg')\n",
    "test_image = test_image.resize((64,64))\n",
    "test_image = np.array(test_image)\n",
    "test_image = np.expand_dims(test_image,axis=0)\n",
    "\n",
    "result = classifier.predict(test_image)\n",
    "\n",
    "if result[0][0] == 1:\n",
    "    print(\"Dog\")\n",
    "else:\n",
    "    print(\"Cat\")   "
   ]
  }
 ],
 "metadata": {
  "kernelspec": {
   "display_name": "Python 3 (ipykernel)",
   "language": "python",
   "name": "python3"
  },
  "language_info": {
   "codemirror_mode": {
    "name": "ipython",
    "version": 3
   },
   "file_extension": ".py",
   "mimetype": "text/x-python",
   "name": "python",
   "nbconvert_exporter": "python",
   "pygments_lexer": "ipython3",
   "version": "3.10.2"
  }
 },
 "nbformat": 4,
 "nbformat_minor": 5
}
