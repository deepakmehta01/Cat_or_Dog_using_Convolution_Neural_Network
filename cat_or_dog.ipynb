{
 "cells": [
  {
   "cell_type": "code",
   "execution_count": 1,
   "id": "217b7fa4",
   "metadata": {},
   "outputs": [],
   "source": [
    "import keras"
   ]
  },
  {
   "cell_type": "markdown",
   "id": "59a6e1bf",
   "metadata": {},
   "source": [
    "# Image Data Processing"
   ]
  },
  {
   "cell_type": "code",
   "execution_count": 2,
   "id": "225a2865",
   "metadata": {},
   "outputs": [],
   "source": [
    "from keras.preprocessing.image import ImageDataGenerator"
   ]
  },
  {
   "cell_type": "markdown",
   "id": "d3053268",
   "metadata": {},
   "source": [
    "### Preprocessing the image data(training)"
   ]
  },
  {
   "cell_type": "code",
   "execution_count": 3,
   "id": "03cbdca6",
   "metadata": {},
   "outputs": [],
   "source": [
    "gen = ImageDataGenerator(rescale=1/255, shear_range=0.2,zoom_range=0.2)"
   ]
  },
  {
   "cell_type": "code",
   "execution_count": 4,
   "id": "47f467c9",
   "metadata": {},
   "outputs": [
    {
     "name": "stdout",
     "output_type": "stream",
     "text": [
      "Found 8048 images belonging to 2 classes.\n"
     ]
    }
   ],
   "source": [
    "training_set = gen.flow_from_directory('training_set',target_size=(64,64),class_mode='binary')"
   ]
  },
  {
   "cell_type": "code",
   "execution_count": 5,
   "id": "a78db800",
   "metadata": {},
   "outputs": [
    {
     "data": {
      "text/plain": [
       "{'cats': 0, 'dogs': 1}"
      ]
     },
     "execution_count": 5,
     "metadata": {},
     "output_type": "execute_result"
    }
   ],
   "source": [
    "training_set.class_indices"
   ]
  },
  {
   "cell_type": "markdown",
   "id": "a528997f",
   "metadata": {},
   "source": [
    "### Preprocessing test dataset"
   ]
  },
  {
   "cell_type": "code",
   "execution_count": 6,
   "id": "7c89c4cf",
   "metadata": {},
   "outputs": [],
   "source": [
    "test_datagen = ImageDataGenerator(rescale=1/255)"
   ]
  },
  {
   "cell_type": "code",
   "execution_count": 7,
   "id": "fec92d5d",
   "metadata": {},
   "outputs": [
    {
     "name": "stdout",
     "output_type": "stream",
     "text": [
      "Found 2000 images belonging to 2 classes.\n"
     ]
    }
   ],
   "source": [
    "test_set = test_datagen.flow_from_directory('test_set',target_size=(64,64),class_mode='binary')"
   ]
  },
  {
   "cell_type": "markdown",
   "id": "949d0a06",
   "metadata": {},
   "source": [
    "## Modelling (building the convolution neural network)"
   ]
  },
  {
   "cell_type": "code",
   "execution_count": 8,
   "id": "f1185fc1",
   "metadata": {},
   "outputs": [],
   "source": [
    "from keras.models import Sequential\n",
    "classifier = Sequential()"
   ]
  },
  {
   "cell_type": "markdown",
   "id": "164785c0",
   "metadata": {},
   "source": [
    "#### step 1 : Convolution"
   ]
  },
  {
   "cell_type": "code",
   "execution_count": 9,
   "id": "f7ad065b",
   "metadata": {},
   "outputs": [],
   "source": [
    "from keras.layers import Conv2D\n",
    "classifier.add(Conv2D(filters=32,kernel_size=3,activation='relu',input_shape=[64,64,3]))"
   ]
  },
  {
   "cell_type": "markdown",
   "id": "8e0116c6",
   "metadata": {},
   "source": [
    "#### step 2 : Pooling"
   ]
  },
  {
   "cell_type": "code",
   "execution_count": 10,
   "id": "0e9dfe50",
   "metadata": {},
   "outputs": [],
   "source": [
    "from keras.layers import MaxPooling2D\n",
    "classifier.add(MaxPooling2D(pool_size=2,strides=2))"
   ]
  },
  {
   "cell_type": "markdown",
   "id": "3097bdb9",
   "metadata": {},
   "source": [
    "#### Adding second layer of convolution"
   ]
  },
  {
   "cell_type": "code",
   "execution_count": 11,
   "id": "562814b1",
   "metadata": {},
   "outputs": [],
   "source": [
    "classifier.add(Conv2D(filters=32,kernel_size=3,activation='relu'))\n",
    "classifier.add(MaxPooling2D(pool_size=2,strides=2))               "
   ]
  },
  {
   "cell_type": "markdown",
   "id": "e8163af7",
   "metadata": {},
   "source": [
    "#### Step 3: Flattening"
   ]
  },
  {
   "cell_type": "code",
   "execution_count": 12,
   "id": "e7167f54",
   "metadata": {},
   "outputs": [],
   "source": [
    "from keras.layers import Flatten\n",
    "classifier.add(Flatten())"
   ]
  },
  {
   "cell_type": "markdown",
   "id": "932b3dc9",
   "metadata": {},
   "source": [
    "## Neural Network Connection"
   ]
  },
  {
   "cell_type": "code",
   "execution_count": 13,
   "id": "86f5d81c",
   "metadata": {},
   "outputs": [],
   "source": [
    "from keras.layers import Dense\n",
    "classifier.add(Dense(units=128,activation='relu'))\n",
    "classifier.add(Dense(units=1,activation='sigmoid'))"
   ]
  },
  {
   "cell_type": "markdown",
   "id": "a9bce0f1",
   "metadata": {},
   "source": [
    "#### Compiling the CNN"
   ]
  },
  {
   "cell_type": "code",
   "execution_count": 14,
   "id": "561291f8",
   "metadata": {},
   "outputs": [],
   "source": [
    "classifier.compile(optimizer='adam',loss='binary_crossentropy',metrics=['accuracy'])"
   ]
  },
  {
   "cell_type": "markdown",
   "id": "5119640b",
   "metadata": {},
   "source": [
    "### Training the CNN model with training data"
   ]
  },
  {
   "cell_type": "code",
   "execution_count": 15,
   "id": "ba885087",
   "metadata": {},
   "outputs": [
    {
     "name": "stdout",
     "output_type": "stream",
     "text": [
      "Epoch 1/25\n",
      "252/252 [==============================] - 275s 1s/step - loss: 0.6965 - accuracy: 0.4971 - val_loss: 0.6931 - val_accuracy: 0.5000\n",
      "Epoch 2/25\n",
      "252/252 [==============================] - 34s 133ms/step - loss: 0.6852 - accuracy: 0.5403 - val_loss: 0.6727 - val_accuracy: 0.5940\n",
      "Epoch 3/25\n",
      "252/252 [==============================] - 33s 129ms/step - loss: 0.6603 - accuracy: 0.6059 - val_loss: 0.6400 - val_accuracy: 0.6405\n",
      "Epoch 4/25\n",
      "252/252 [==============================] - 33s 132ms/step - loss: 0.6450 - accuracy: 0.6300 - val_loss: 0.6254 - val_accuracy: 0.6745\n",
      "Epoch 5/25\n",
      "252/252 [==============================] - 36s 144ms/step - loss: 0.6188 - accuracy: 0.6566 - val_loss: 0.6088 - val_accuracy: 0.6755\n",
      "Epoch 6/25\n",
      "252/252 [==============================] - 35s 139ms/step - loss: 0.5728 - accuracy: 0.6938 - val_loss: 0.5844 - val_accuracy: 0.7110\n",
      "Epoch 7/25\n",
      "252/252 [==============================] - 35s 141ms/step - loss: 0.5295 - accuracy: 0.7330 - val_loss: 0.5455 - val_accuracy: 0.7260\n",
      "Epoch 8/25\n",
      "252/252 [==============================] - 36s 145ms/step - loss: 0.4891 - accuracy: 0.7597 - val_loss: 0.5535 - val_accuracy: 0.7430\n",
      "Epoch 9/25\n",
      "252/252 [==============================] - 34s 133ms/step - loss: 0.4455 - accuracy: 0.7884 - val_loss: 0.5691 - val_accuracy: 0.7240\n",
      "Epoch 10/25\n",
      "252/252 [==============================] - 33s 130ms/step - loss: 0.3912 - accuracy: 0.8190 - val_loss: 0.5960 - val_accuracy: 0.7410\n",
      "Epoch 11/25\n",
      "252/252 [==============================] - 35s 141ms/step - loss: 0.3528 - accuracy: 0.8451 - val_loss: 0.5846 - val_accuracy: 0.7530\n",
      "Epoch 12/25\n",
      "252/252 [==============================] - 32s 127ms/step - loss: 0.3109 - accuracy: 0.8692 - val_loss: 0.5814 - val_accuracy: 0.7670\n",
      "Epoch 13/25\n",
      "252/252 [==============================] - 30s 121ms/step - loss: 0.2683 - accuracy: 0.8899 - val_loss: 0.6257 - val_accuracy: 0.7555\n",
      "Epoch 14/25\n",
      "252/252 [==============================] - 31s 122ms/step - loss: 0.2329 - accuracy: 0.9011 - val_loss: 0.7082 - val_accuracy: 0.7470\n",
      "Epoch 15/25\n",
      "252/252 [==============================] - 32s 127ms/step - loss: 0.1953 - accuracy: 0.9253 - val_loss: 0.7919 - val_accuracy: 0.7485\n",
      "Epoch 16/25\n",
      "252/252 [==============================] - 31s 123ms/step - loss: 0.1727 - accuracy: 0.9312 - val_loss: 0.7825 - val_accuracy: 0.7590\n",
      "Epoch 17/25\n",
      "252/252 [==============================] - 31s 122ms/step - loss: 0.1454 - accuracy: 0.9445 - val_loss: 0.8298 - val_accuracy: 0.7470\n",
      "Epoch 18/25\n",
      "252/252 [==============================] - 54s 213ms/step - loss: 0.1334 - accuracy: 0.9487 - val_loss: 0.8667 - val_accuracy: 0.7520\n",
      "Epoch 19/25\n",
      "252/252 [==============================] - 60s 236ms/step - loss: 0.1178 - accuracy: 0.9574 - val_loss: 0.8559 - val_accuracy: 0.7555\n",
      "Epoch 20/25\n",
      "252/252 [==============================] - 58s 230ms/step - loss: 0.1002 - accuracy: 0.9632 - val_loss: 0.8904 - val_accuracy: 0.7540\n",
      "Epoch 21/25\n",
      "252/252 [==============================] - 59s 236ms/step - loss: 0.0963 - accuracy: 0.9678 - val_loss: 1.0144 - val_accuracy: 0.7560\n",
      "Epoch 22/25\n",
      "252/252 [==============================] - 59s 234ms/step - loss: 0.0904 - accuracy: 0.9689 - val_loss: 1.0349 - val_accuracy: 0.7585\n",
      "Epoch 23/25\n",
      "252/252 [==============================] - 58s 229ms/step - loss: 0.0830 - accuracy: 0.9708 - val_loss: 1.0080 - val_accuracy: 0.7470\n",
      "Epoch 24/25\n",
      "252/252 [==============================] - 56s 224ms/step - loss: 0.0687 - accuracy: 0.9763 - val_loss: 1.0340 - val_accuracy: 0.7580\n",
      "Epoch 25/25\n",
      "252/252 [==============================] - 58s 229ms/step - loss: 0.0688 - accuracy: 0.9763 - val_loss: 1.0982 - val_accuracy: 0.7480\n"
     ]
    },
    {
     "data": {
      "text/plain": [
       "<keras.callbacks.History at 0x21a9fdb13c0>"
      ]
     },
     "execution_count": 15,
     "metadata": {},
     "output_type": "execute_result"
    }
   ],
   "source": [
    "classifier.fit(x=training_set,validation_data=test_set,epochs=25)"
   ]
  },
  {
   "cell_type": "markdown",
   "id": "a3a753ff",
   "metadata": {},
   "source": [
    "# Evaluation"
   ]
  },
  {
   "cell_type": "code",
   "execution_count": 16,
   "id": "5adae8c2",
   "metadata": {},
   "outputs": [],
   "source": [
    "import numpy as np\n",
    "from PIL import Image"
   ]
  },
  {
   "cell_type": "code",
   "execution_count": 17,
   "id": "cb520669",
   "metadata": {},
   "outputs": [],
   "source": [
    "test_image = Image.open('single_prediction/cat_or_dog_2.jpg')\n",
    "test_image = test_image.resize((64,64))\n",
    "test_image = np.array(test_image)\n",
    "test_image = np.expand_dims(test_image,axis=0)"
   ]
  },
  {
   "cell_type": "code",
   "execution_count": 18,
   "id": "42a88537",
   "metadata": {},
   "outputs": [
    {
     "name": "stdout",
     "output_type": "stream",
     "text": [
      "1/1 [==============================] - 1s 608ms/step\n"
     ]
    }
   ],
   "source": [
    "result = classifier.predict(test_image)"
   ]
  },
  {
   "cell_type": "code",
   "execution_count": 19,
   "id": "67e255bb",
   "metadata": {},
   "outputs": [
    {
     "name": "stdout",
     "output_type": "stream",
     "text": [
      "[[1.]]\n"
     ]
    }
   ],
   "source": [
    "print(result)"
   ]
  },
  {
   "cell_type": "code",
   "execution_count": 20,
   "id": "0b78ec29",
   "metadata": {},
   "outputs": [
    {
     "name": "stdout",
     "output_type": "stream",
     "text": [
      "Dog\n"
     ]
    }
   ],
   "source": [
    "if result[0][0] == 1:\n",
    "    print(\"Dog\")\n",
    "else:\n",
    "    print(\"Cat\")   "
   ]
  },
  {
   "cell_type": "code",
   "execution_count": 21,
   "id": "cb5d9d5f",
   "metadata": {},
   "outputs": [
    {
     "name": "stdout",
     "output_type": "stream",
     "text": [
      "1/1 [==============================] - 0s 67ms/step\n",
      "Dog\n"
     ]
    }
   ],
   "source": [
    "test_image = Image.open('single_prediction/cat_or_dog_1.jpg')\n",
    "test_image = test_image.resize((64,64))\n",
    "test_image = np.array(test_image)\n",
    "test_image = np.expand_dims(test_image,axis=0)\n",
    "\n",
    "result = classifier.predict(test_image)\n",
    "\n",
    "if result[0][0] == 1:\n",
    "    print(\"Dog\")\n",
    "else:\n",
    "    print(\"Cat\")   "
   ]
  },
  {
   "cell_type": "code",
   "execution_count": 22,
   "id": "836a8dd1",
   "metadata": {},
   "outputs": [
    {
     "name": "stdout",
     "output_type": "stream",
     "text": [
      "1/1 [==============================] - 0s 49ms/step\n",
      "Dog\n"
     ]
    }
   ],
   "source": [
    "test_image = Image.open('single_prediction/cat_or_dog_1.jpg')\n",
    "test_image = test_image.resize((64,64))\n",
    "test_image = np.array(test_image)\n",
    "test_image = np.expand_dims(test_image,axis=0)\n",
    "\n",
    "result = classifier.predict(test_image)\n",
    "\n",
    "if result[0][0] == 1:\n",
    "    print(\"Dog\")\n",
    "else:\n",
    "    print(\"Cat\")   "
   ]
  }
 ],
 "metadata": {
  "kernelspec": {
   "display_name": "Python 3 (ipykernel)",
   "language": "python",
   "name": "python3"
  },
  "language_info": {
   "codemirror_mode": {
    "name": "ipython",
    "version": 3
   },
   "file_extension": ".py",
   "mimetype": "text/x-python",
   "name": "python",
   "nbconvert_exporter": "python",
   "pygments_lexer": "ipython3",
   "version": "3.10.2"
  }
 },
 "nbformat": 4,
 "nbformat_minor": 5
}
